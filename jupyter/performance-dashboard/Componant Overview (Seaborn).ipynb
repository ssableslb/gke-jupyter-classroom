{
 "cells": [
  {
   "cell_type": "code",
   "execution_count": 1,
   "metadata": {
    "collapsed": false,
    "deletable": true,
    "editable": true,
    "hideCode": true,
    "hideOutput": true,
    "hidePrompt": true
   },
   "outputs": [
    {
     "data": {
      "text/html": [
       "<script>\n",
       "code_show=true; \n",
       "function code_toggle() {\n",
       " if (code_show){\n",
       " $('div.input').hide();\n",
       " } else {\n",
       " $('div.input').show();\n",
       " }\n",
       " code_show = !code_show\n",
       "} \n",
       "$( document ).ready(code_toggle);\n",
       "</script>\n",
       "<form action=\"javascript:code_toggle()\"><input type=\"submit\" value=\"Click here to toggle on/off the raw code.\"></form>"
      ],
      "text/plain": [
       "<IPython.core.display.HTML object>"
      ]
     },
     "execution_count": 1,
     "metadata": {},
     "output_type": "execute_result"
    }
   ],
   "source": [
    "from IPython.display import HTML\n",
    "\n",
    "HTML('''<script>\n",
    "code_show=true; \n",
    "function code_toggle() {\n",
    " if (code_show){\n",
    " $('div.input').hide();\n",
    " } else {\n",
    " $('div.input').show();\n",
    " }\n",
    " code_show = !code_show\n",
    "} \n",
    "$( document ).ready(code_toggle);\n",
    "</script>\n",
    "<form action=\"javascript:code_toggle()\"><input type=\"submit\" value=\"Click here to toggle on/off the raw code.\"></form>''')\n"
   ]
  },
  {
   "cell_type": "code",
   "execution_count": 2,
   "metadata": {
    "collapsed": false,
    "deletable": true,
    "editable": true,
    "extensions": {
     "jupyter_dashboards": {
      "version": 1,
      "views": {
       "grid_default": {
        "hidden": true
       },
       "report_default": {
        "hidden": true
       }
      }
     }
    },
    "hideCode": false,
    "hidePrompt": true
   },
   "outputs": [],
   "source": [
    "import pymongo\n",
    "import pandas as pd\n",
    "from pymongo import MongoClient\n",
    "client = MongoClient()\n",
    "db = client.performance_dashboard"
   ]
  },
  {
   "cell_type": "code",
   "execution_count": 3,
   "metadata": {
    "collapsed": false,
    "deletable": true,
    "editable": true,
    "hideCode": true,
    "hidePrompt": true
   },
   "outputs": [
    {
     "data": {
      "text/html": [
       "\n",
       "    <div class=\"bk-root\">\n",
       "        <a href=\"http://bokeh.pydata.org\" target=\"_blank\" class=\"bk-logo bk-logo-small bk-logo-notebook\"></a>\n",
       "        <span id=\"2f697da2-6ee0-4b12-80d1-e2df45f1efb6\">Loading BokehJS ...</span>\n",
       "    </div>"
      ]
     },
     "metadata": {},
     "output_type": "display_data"
    },
    {
     "data": {
      "application/javascript": [
       "\n",
       "(function(global) {\n",
       "  function now() {\n",
       "    return new Date();\n",
       "  }\n",
       "\n",
       "  var force = \"1\";\n",
       "\n",
       "  if (typeof (window._bokeh_onload_callbacks) === \"undefined\" || force !== \"\") {\n",
       "    window._bokeh_onload_callbacks = [];\n",
       "    window._bokeh_is_loading = undefined;\n",
       "  }\n",
       "\n",
       "\n",
       "  \n",
       "  if (typeof (window._bokeh_timeout) === \"undefined\" || force !== \"\") {\n",
       "    window._bokeh_timeout = Date.now() + 5000;\n",
       "    window._bokeh_failed_load = false;\n",
       "  }\n",
       "\n",
       "  var NB_LOAD_WARNING = {'data': {'text/html':\n",
       "     \"<div style='background-color: #fdd'>\\n\"+\n",
       "     \"<p>\\n\"+\n",
       "     \"BokehJS does not appear to have successfully loaded. If loading BokehJS from CDN, this \\n\"+\n",
       "     \"may be due to a slow or bad network connection. Possible fixes:\\n\"+\n",
       "     \"</p>\\n\"+\n",
       "     \"<ul>\\n\"+\n",
       "     \"<li>re-rerun `output_notebook()` to attempt to load from CDN again, or</li>\\n\"+\n",
       "     \"<li>use INLINE resources instead, as so:</li>\\n\"+\n",
       "     \"</ul>\\n\"+\n",
       "     \"<code>\\n\"+\n",
       "     \"from bokeh.resources import INLINE\\n\"+\n",
       "     \"output_notebook(resources=INLINE)\\n\"+\n",
       "     \"</code>\\n\"+\n",
       "     \"</div>\"}};\n",
       "\n",
       "  function display_loaded() {\n",
       "    if (window.Bokeh !== undefined) {\n",
       "      Bokeh.$(\"#2f697da2-6ee0-4b12-80d1-e2df45f1efb6\").text(\"BokehJS successfully loaded.\");\n",
       "    } else if (Date.now() < window._bokeh_timeout) {\n",
       "      setTimeout(display_loaded, 100)\n",
       "    }\n",
       "  }\n",
       "\n",
       "  function run_callbacks() {\n",
       "    window._bokeh_onload_callbacks.forEach(function(callback) { callback() });\n",
       "    delete window._bokeh_onload_callbacks\n",
       "    console.info(\"Bokeh: all callbacks have finished\");\n",
       "  }\n",
       "\n",
       "  function load_libs(js_urls, callback) {\n",
       "    window._bokeh_onload_callbacks.push(callback);\n",
       "    if (window._bokeh_is_loading > 0) {\n",
       "      console.log(\"Bokeh: BokehJS is being loaded, scheduling callback at\", now());\n",
       "      return null;\n",
       "    }\n",
       "    if (js_urls == null || js_urls.length === 0) {\n",
       "      run_callbacks();\n",
       "      return null;\n",
       "    }\n",
       "    console.log(\"Bokeh: BokehJS not loaded, scheduling load and callback at\", now());\n",
       "    window._bokeh_is_loading = js_urls.length;\n",
       "    for (var i = 0; i < js_urls.length; i++) {\n",
       "      var url = js_urls[i];\n",
       "      var s = document.createElement('script');\n",
       "      s.src = url;\n",
       "      s.async = false;\n",
       "      s.onreadystatechange = s.onload = function() {\n",
       "        window._bokeh_is_loading--;\n",
       "        if (window._bokeh_is_loading === 0) {\n",
       "          console.log(\"Bokeh: all BokehJS libraries loaded\");\n",
       "          run_callbacks()\n",
       "        }\n",
       "      };\n",
       "      s.onerror = function() {\n",
       "        console.warn(\"failed to load library \" + url);\n",
       "      };\n",
       "      console.log(\"Bokeh: injecting script tag for BokehJS library: \", url);\n",
       "      document.getElementsByTagName(\"head\")[0].appendChild(s);\n",
       "    }\n",
       "  };var element = document.getElementById(\"2f697da2-6ee0-4b12-80d1-e2df45f1efb6\");\n",
       "  if (element == null) {\n",
       "    console.log(\"Bokeh: ERROR: autoload.js configured with elementid '2f697da2-6ee0-4b12-80d1-e2df45f1efb6' but no matching script tag was found. \")\n",
       "    return false;\n",
       "  }\n",
       "\n",
       "  var js_urls = ['https://cdn.pydata.org/bokeh/release/bokeh-0.12.3.min.js', 'https://cdn.pydata.org/bokeh/release/bokeh-widgets-0.12.3.min.js'];\n",
       "\n",
       "  var inline_js = [\n",
       "    function(Bokeh) {\n",
       "      Bokeh.set_log_level(\"info\");\n",
       "    },\n",
       "    \n",
       "    function(Bokeh) {\n",
       "      \n",
       "      Bokeh.$(\"#2f697da2-6ee0-4b12-80d1-e2df45f1efb6\").text(\"BokehJS is loading...\");\n",
       "    },\n",
       "    function(Bokeh) {\n",
       "      console.log(\"Bokeh: injecting CSS: https://cdn.pydata.org/bokeh/release/bokeh-0.12.3.min.css\");\n",
       "      Bokeh.embed.inject_css(\"https://cdn.pydata.org/bokeh/release/bokeh-0.12.3.min.css\");\n",
       "      console.log(\"Bokeh: injecting CSS: https://cdn.pydata.org/bokeh/release/bokeh-widgets-0.12.3.min.css\");\n",
       "      Bokeh.embed.inject_css(\"https://cdn.pydata.org/bokeh/release/bokeh-widgets-0.12.3.min.css\");\n",
       "    }\n",
       "  ];\n",
       "\n",
       "  function run_inline_js() {\n",
       "    \n",
       "    if ((window.Bokeh !== undefined) || (force === \"1\")) {\n",
       "      for (var i = 0; i < inline_js.length; i++) {\n",
       "        inline_js[i](window.Bokeh);\n",
       "      }if (force === \"1\") {\n",
       "        display_loaded();\n",
       "      }} else if (Date.now() < window._bokeh_timeout) {\n",
       "      setTimeout(run_inline_js, 100);\n",
       "    } else if (!window._bokeh_failed_load) {\n",
       "      console.log(\"Bokeh: BokehJS failed to load within specified timeout.\");\n",
       "      window._bokeh_failed_load = true;\n",
       "    } else if (!force) {\n",
       "      var cell = $(\"#2f697da2-6ee0-4b12-80d1-e2df45f1efb6\").parents('.cell').data().cell;\n",
       "      cell.output_area.append_execute_result(NB_LOAD_WARNING)\n",
       "    }\n",
       "\n",
       "  }\n",
       "\n",
       "  if (window._bokeh_is_loading === 0) {\n",
       "    console.log(\"Bokeh: BokehJS loaded, going straight to plotting\");\n",
       "    run_inline_js();\n",
       "  } else {\n",
       "    load_libs(js_urls, function() {\n",
       "      console.log(\"Bokeh: BokehJS plotting callback run at\", now());\n",
       "      run_inline_js();\n",
       "    });\n",
       "  }\n",
       "}(this));"
      ]
     },
     "metadata": {},
     "output_type": "display_data"
    }
   ],
   "source": [
    "%matplotlib inline\n",
    "from bokeh.io import output_notebook\n",
    "output_notebook()"
   ]
  },
  {
   "cell_type": "code",
   "execution_count": 4,
   "metadata": {
    "collapsed": false,
    "deletable": true,
    "editable": true,
    "extensions": {
     "jupyter_dashboards": {
      "version": 1,
      "views": {
       "grid_default": {
        "col": 0,
        "height": 10,
        "hidden": false,
        "row": 0,
        "width": 4
       },
       "report_default": {
        "hidden": false
       }
      }
     }
    },
    "hideCode": false,
    "hidePrompt": true,
    "slideshow": {
     "slide_type": "skip"
    }
   },
   "outputs": [],
   "source": [
    "import ipywidgets as widgets\n",
    "from IPython.display import display\n",
    "\n",
    "components = db.benchmark_results.distinct(\"component\")\n",
    "component_selection = widgets.Dropdown(description=\"Component\", options=components, value='Ocean')\n",
    "display(component_selection)"
   ]
  },
  {
   "cell_type": "code",
   "execution_count": 5,
   "metadata": {
    "collapsed": false,
    "deletable": true,
    "editable": true,
    "hideCode": true,
    "hidePrompt": true
   },
   "outputs": [],
   "source": [
    "from IPython.display import Javascript, display\n",
    "# from ipywidgets import widgets\n",
    "\n",
    "def run_all(ev):\n",
    "    global component\n",
    "    component = component_selection.value   \n",
    "    display(Javascript('IPython.notebook.execute_cells_below()'))\n",
    "\n",
    "component = component_selection.value\n",
    "button = widgets.Button(description=\"Update below\")\n",
    "button.on_click(run_all)\n",
    "display(button)"
   ]
  },
  {
   "cell_type": "code",
   "execution_count": 6,
   "metadata": {
    "collapsed": false,
    "deletable": true,
    "editable": true,
    "hideCode": true
   },
   "outputs": [],
   "source": [
    "import numpy as np\n",
    "import seaborn as sns\n",
    "\n",
    "def render_plot(component, benchmark_name, benchstep_name, df):\n",
    "    benchs = df[['version', 'revision', 'value']]\n",
    "    sns.set(style=\"ticks\")\n",
    "    ax = sns.lmplot(x=\"revision\", y=\"value\", data=df, hue='version', fit_reg=False)\n",
    "    title = \"'{}', '{}', '{}'\".format(component, benchmark_name, benchstep_name)\n",
    "    print(title)\n",
    "    ax.fig.suptitle(title)\n",
    "    # ax.set_yscale(\"log\")"
   ]
  },
  {
   "cell_type": "code",
   "execution_count": 7,
   "metadata": {
    "collapsed": true,
    "deletable": true,
    "editable": true
   },
   "outputs": [],
   "source": [
    "from IPython.display import clear_output\n",
    "\n",
    "def bench_generator():\n",
    "    benchmark_names = db.benchmark_results.find({\"component\": component}).distinct(\"benchmark_name\")\n",
    "    for benchmark_name in benchmark_names:\n",
    "        benchstep_names = db.benchmark_results.find({\"component\": component,\n",
    "                                                     \"benchmark_name\": benchmark_name\n",
    "                                                    }\n",
    "                                                   ).distinct(\"benchstep_name\")\n",
    "        for benchstep_name in benchstep_names:\n",
    "            versions = db.benchmark_results.find({\"component\": component,\n",
    "                                                  \"benchmark_name\": benchmark_name,\n",
    "                                                  \"benchstep_name\": benchstep_name,\n",
    "                                                 }\n",
    "                                                ).distinct(\"version\")\n",
    "            versions.sort(reverse=True)\n",
    "\n",
    "\n",
    "            query = {\"component\": component, \"benchmark_name\": benchmark_name, \n",
    "                     \"benchstep_name\": benchstep_name, \"version\": {\"$in\": versions}}\n",
    "            df = pd.DataFrame.from_records(db.benchmark_results.find(query))\n",
    "            clear_output()\n",
    "            render_plot(component, benchmark_name, benchstep_name, df)\n",
    "            yield\n",
    "    "
   ]
  },
  {
   "cell_type": "code",
   "execution_count": 8,
   "metadata": {
    "collapsed": false,
    "deletable": true,
    "editable": true
   },
   "outputs": [],
   "source": [
    "import ipywidgets as widgets\n",
    "\n",
    "benchs = bench_generator()\n",
    "\n",
    "previous_bench = widgets.Button(description='<', disabled=False,\n",
    "                    button_style='', tooltip='Previous', icon='check')\n",
    "play = widgets.Play(value=0, min=0, max=200000, step=1, description=\"Press play\", disabled=False)\n",
    "next_bench = widgets.Button(description='>', disabled=False, button_style='', tooltip='Next', icon='check')\n",
    "\n",
    "def on_button_clicked(b):\n",
    "    global benchs\n",
    "    next(benchs)\n",
    "\n",
    "next_bench.on_click(on_button_clicked)\n"
   ]
  },
  {
   "cell_type": "code",
   "execution_count": 9,
   "metadata": {
    "collapsed": false,
    "deletable": true,
    "editable": true
   },
   "outputs": [
    {
     "name": "stdout",
     "output_type": "stream",
     "text": [
      "'Ocean', 'BenchCore_RpcConnectionSyncInvoke', 'DoSyncCalls'\n"
     ]
    },
    {
     "data": {
      "image/png": "[encoded data removed]",
      "text/plain": [
       "<matplotlib.figure.Figure at 0x7fdbf0a58860>"
      ]
     },
     "metadata": {},
     "output_type": "display_data"
    }
   ],
   "source": [
    "widgets.HBox([previous_bench, play, next_bench])"
   ]
  },
  {
   "cell_type": "code",
   "execution_count": 10,
   "metadata": {
    "collapsed": false,
    "deletable": true,
    "editable": true
   },
   "outputs": [
    {
     "name": "stdout",
     "output_type": "stream",
     "text": [
      "                           _id                    benchmark_name  \\\n",
      "0     583c6b2741c08211657ddb09  ocean_bench_conversion_one_value   \n",
      "1     583c6b2741c08211657ddb0d  ocean_bench_conversion_one_value   \n",
      "2     583c6b2741c08211657ddb11  ocean_bench_conversion_one_value   \n",
      "3     583c6b2741c08211657ddb15  ocean_bench_conversion_one_value   \n",
      "4     583c6b2741c08211657ddb19  ocean_bench_conversion_one_value   \n",
      "5     583c6b3841c08211657e54b7  ocean_bench_conversion_one_value   \n",
      "6     583c6b3841c08211657e54bb  ocean_bench_conversion_one_value   \n",
      "7     583c6b3841c08211657e54bf  ocean_bench_conversion_one_value   \n",
      "8     583c6b3841c08211657e54c3  ocean_bench_conversion_one_value   \n",
      "9     583c6b3841c08211657e54c7  ocean_bench_conversion_one_value   \n",
      "10    583c6b2e41c08211657e0d9a  ocean_bench_conversion_one_value   \n",
      "11    583c6b2e41c08211657e0d9e  ocean_bench_conversion_one_value   \n",
      "12    583c6b2e41c08211657e0da2  ocean_bench_conversion_one_value   \n",
      "13    583c6b2e41c08211657e0da6  ocean_bench_conversion_one_value   \n",
      "14    583c6b2e41c08211657e0daa  ocean_bench_conversion_one_value   \n",
      "15    583c6b1e41c08211657d9359  ocean_bench_conversion_one_value   \n",
      "16    583c6b1e41c08211657d935d  ocean_bench_conversion_one_value   \n",
      "17    583c6b1e41c08211657d9361  ocean_bench_conversion_one_value   \n",
      "18    583c6b1e41c08211657d9365  ocean_bench_conversion_one_value   \n",
      "19    583c6b1e41c08211657d9369  ocean_bench_conversion_one_value   \n",
      "20    583c6b4f41c08211657f0725  ocean_bench_conversion_one_value   \n",
      "21    583c6b4f41c08211657f0729  ocean_bench_conversion_one_value   \n",
      "22    583c6b4f41c08211657f072d  ocean_bench_conversion_one_value   \n",
      "23    583c6b4f41c08211657f0731  ocean_bench_conversion_one_value   \n",
      "24    583c6b4f41c08211657f0735  ocean_bench_conversion_one_value   \n",
      "25    583c6b5141c08211657f0f07  ocean_bench_conversion_one_value   \n",
      "26    583c6b5141c08211657f0f0b  ocean_bench_conversion_one_value   \n",
      "27    583c6b5141c08211657f0f0f  ocean_bench_conversion_one_value   \n",
      "28    583c6b5141c08211657f0f13  ocean_bench_conversion_one_value   \n",
      "29    583c6b5141c08211657f0f17  ocean_bench_conversion_one_value   \n",
      "...                        ...                               ...   \n",
      "8805  583c6b7441c08211658017d2  ocean_bench_conversion_one_value   \n",
      "8806  583c6b7441c08211658017d6  ocean_bench_conversion_one_value   \n",
      "8807  583c6b7441c08211658017da  ocean_bench_conversion_one_value   \n",
      "8808  583c6b7441c08211658017de  ocean_bench_conversion_one_value   \n",
      "8809  583c6b7441c08211658017e2  ocean_bench_conversion_one_value   \n",
      "8810  583c6b7441c08211658018dd  ocean_bench_conversion_one_value   \n",
      "8811  583c6b7441c08211658018e1  ocean_bench_conversion_one_value   \n",
      "8812  583c6b7441c08211658018e5  ocean_bench_conversion_one_value   \n",
      "8813  583c6b7441c08211658018e9  ocean_bench_conversion_one_value   \n",
      "8814  583c6b7441c08211658018ed  ocean_bench_conversion_one_value   \n",
      "8815  583c6b7441c0821165801ca1  ocean_bench_conversion_one_value   \n",
      "8816  583c6b7441c0821165801ca5  ocean_bench_conversion_one_value   \n",
      "8817  583c6b7441c0821165801ca9  ocean_bench_conversion_one_value   \n",
      "8818  583c6b7441c0821165801cad  ocean_bench_conversion_one_value   \n",
      "8819  583c6b7441c0821165801cb1  ocean_bench_conversion_one_value   \n",
      "8820  583c6b7541c0821165801dac  ocean_bench_conversion_one_value   \n",
      "8821  583c6b7541c0821165801db0  ocean_bench_conversion_one_value   \n",
      "8822  583c6b7541c0821165801db4  ocean_bench_conversion_one_value   \n",
      "8823  583c6b7541c0821165801db8  ocean_bench_conversion_one_value   \n",
      "8824  583c6b7541c0821165801dbc  ocean_bench_conversion_one_value   \n",
      "8825  583c6b7541c08211658022e3  ocean_bench_conversion_one_value   \n",
      "8826  583c6b7541c08211658022e7  ocean_bench_conversion_one_value   \n",
      "8827  583c6b7541c08211658022eb  ocean_bench_conversion_one_value   \n",
      "8828  583c6b7541c08211658022ef  ocean_bench_conversion_one_value   \n",
      "8829  583c6b7541c08211658022f3  ocean_bench_conversion_one_value   \n",
      "8830  583c6b7641c08211658025fb  ocean_bench_conversion_one_value   \n",
      "8831  583c6b7641c08211658025ff  ocean_bench_conversion_one_value   \n",
      "8832  583c6b7641c0821165802603  ocean_bench_conversion_one_value   \n",
      "8833  583c6b7641c0821165802607  ocean_bench_conversion_one_value   \n",
      "8834  583c6b7641c082116580260b  ocean_bench_conversion_one_value   \n",
      "\n",
      "                                         benchstep_name benchstep_result_date  \\\n",
      "0     Unit converter creation + One double value con...   2016-09-28 11:12:29   \n",
      "1     Unit converter creation + One double value con...   2016-09-28 11:12:29   \n",
      "2     Unit converter creation + One double value con...   2016-09-28 11:12:29   \n",
      "3     Unit converter creation + One double value con...   2016-09-28 11:12:29   \n",
      "4     Unit converter creation + One double value con...   2016-09-28 11:12:29   \n",
      "5     Unit converter creation + One double value con...   2016-10-05 09:47:42   \n",
      "6     Unit converter creation + One double value con...   2016-10-05 09:47:42   \n",
      "7     Unit converter creation + One double value con...   2016-10-05 09:47:42   \n",
      "8     Unit converter creation + One double value con...   2016-10-05 09:47:42   \n",
      "9     Unit converter creation + One double value con...   2016-10-05 09:47:42   \n",
      "10    Unit converter creation + One double value con...   2016-09-30 17:17:59   \n",
      "11    Unit converter creation + One double value con...   2016-09-30 17:17:59   \n",
      "12    Unit converter creation + One double value con...   2016-09-30 17:17:59   \n",
      "13    Unit converter creation + One double value con...   2016-09-30 17:17:59   \n",
      "14    Unit converter creation + One double value con...   2016-09-30 17:17:59   \n",
      "15    Unit converter creation + One double value con...   2016-09-24 06:43:10   \n",
      "16    Unit converter creation + One double value con...   2016-09-24 06:43:10   \n",
      "17    Unit converter creation + One double value con...   2016-09-24 06:43:10   \n",
      "18    Unit converter creation + One double value con...   2016-09-24 06:43:10   \n",
      "19    Unit converter creation + One double value con...   2016-09-24 06:43:10   \n",
      "20    Unit converter creation + One double value con...   2016-10-19 04:27:58   \n",
      "21    Unit converter creation + One double value con...   2016-10-19 04:27:58   \n",
      "22    Unit converter creation + One double value con...   2016-10-19 04:27:58   \n",
      "23    Unit converter creation + One double value con...   2016-10-19 04:27:58   \n",
      "24    Unit converter creation + One double value con...   2016-10-19 04:27:58   \n",
      "25    Unit converter creation + One double value con...   2016-10-19 08:10:21   \n",
      "26    Unit converter creation + One double value con...   2016-10-19 08:10:21   \n",
      "27    Unit converter creation + One double value con...   2016-10-19 08:10:21   \n",
      "28    Unit converter creation + One double value con...   2016-10-19 08:10:21   \n",
      "29    Unit converter creation + One double value con...   2016-10-19 08:10:21   \n",
      "...                                                 ...                   ...   \n",
      "8805  Unit converter creation + One double value con...   2016-11-24 17:01:38   \n",
      "8806  Unit converter creation + One double value con...   2016-11-24 17:01:38   \n",
      "8807  Unit converter creation + One double value con...   2016-11-24 17:01:38   \n",
      "8808  Unit converter creation + One double value con...   2016-11-24 17:01:38   \n",
      "8809  Unit converter creation + One double value con...   2016-11-24 17:01:38   \n",
      "8810  Unit converter creation + One double value con...   2016-11-24 17:48:08   \n",
      "8811  Unit converter creation + One double value con...   2016-11-24 17:48:08   \n",
      "8812  Unit converter creation + One double value con...   2016-11-24 17:48:08   \n",
      "8813  Unit converter creation + One double value con...   2016-11-24 17:48:08   \n",
      "8814  Unit converter creation + One double value con...   2016-11-24 17:48:08   \n",
      "8815  Unit converter creation + One double value con...   2016-11-25 16:44:02   \n",
      "8816  Unit converter creation + One double value con...   2016-11-25 16:44:02   \n",
      "8817  Unit converter creation + One double value con...   2016-11-25 16:44:02   \n",
      "8818  Unit converter creation + One double value con...   2016-11-25 16:44:02   \n",
      "8819  Unit converter creation + One double value con...   2016-11-25 16:44:02   \n",
      "8820  Unit converter creation + One double value con...   2016-11-25 21:01:09   \n",
      "8821  Unit converter creation + One double value con...   2016-11-25 21:01:09   \n",
      "8822  Unit converter creation + One double value con...   2016-11-25 21:01:09   \n",
      "8823  Unit converter creation + One double value con...   2016-11-25 21:01:09   \n",
      "8824  Unit converter creation + One double value con...   2016-11-25 21:01:09   \n",
      "8825  Unit converter creation + One double value con...   2016-11-26 14:48:15   \n",
      "8826  Unit converter creation + One double value con...   2016-11-26 14:48:15   \n",
      "8827  Unit converter creation + One double value con...   2016-11-26 14:48:15   \n",
      "8828  Unit converter creation + One double value con...   2016-11-26 14:48:15   \n",
      "8829  Unit converter creation + One double value con...   2016-11-26 14:48:15   \n",
      "8830  Unit converter creation + One double value con...   2016-11-28 12:22:08   \n",
      "8831  Unit converter creation + One double value con...   2016-11-28 12:22:08   \n",
      "8832  Unit converter creation + One double value con...   2016-11-28 12:22:08   \n",
      "8833  Unit converter creation + One double value con...   2016-11-28 12:22:08   \n",
      "8834  Unit converter creation + One double value con...   2016-11-28 12:22:08   \n",
      "\n",
      "     component  revision     value   version  \n",
      "0        Ocean    139086  0.490979    2014.2  \n",
      "1        Ocean    139086  0.309551    2014.2  \n",
      "2        Ocean    139086  0.292205    2014.2  \n",
      "3        Ocean    139086  0.268836    2014.2  \n",
      "4        Ocean    139086  0.280475    2014.2  \n",
      "5        Ocean    141090  0.290126  2014.2.0  \n",
      "6        Ocean    141090  0.249877  2014.2.0  \n",
      "7        Ocean    141090  0.245985  2014.2.0  \n",
      "8        Ocean    141090  0.246113  2014.2.0  \n",
      "9        Ocean    141090  0.245685  2014.2.0  \n",
      "10       Ocean    140265  0.535996    2014.3  \n",
      "11       Ocean    140265  0.242659    2014.3  \n",
      "12       Ocean    140265  0.238764    2014.3  \n",
      "13       Ocean    140265  0.249362    2014.3  \n",
      "14       Ocean    140265  0.245648    2014.3  \n",
      "15       Ocean    138372  0.340844    2015.1  \n",
      "16       Ocean    138372  0.247459    2015.1  \n",
      "17       Ocean    138372  0.243337    2015.1  \n",
      "18       Ocean    138372  0.243835    2015.1  \n",
      "19       Ocean    138372  0.240348    2015.1  \n",
      "20       Ocean    155575  0.309639    2015.3  \n",
      "21       Ocean    155575  0.313805    2015.3  \n",
      "22       Ocean    155575  0.312401    2015.3  \n",
      "23       Ocean    155575  0.289984    2015.3  \n",
      "24       Ocean    155575  0.240891    2015.3  \n",
      "25       Ocean    155575  0.292293    2015.3  \n",
      "26       Ocean    155575  0.233146    2015.3  \n",
      "27       Ocean    155575  0.229931    2015.3  \n",
      "28       Ocean    155575  0.242294    2015.3  \n",
      "29       Ocean    155575  0.234233    2015.3  \n",
      "...        ...       ...       ...       ...  \n",
      "8805     Ocean    166740  0.383776    2017.1  \n",
      "8806     Ocean    166740  0.247684    2017.1  \n",
      "8807     Ocean    166740  0.250764    2017.1  \n",
      "8808     Ocean    166740  0.255474    2017.1  \n",
      "8809     Ocean    166740  0.254568    2017.1  \n",
      "8810     Ocean    166748  0.309911    2017.1  \n",
      "8811     Ocean    166748  0.243517    2017.1  \n",
      "8812     Ocean    166748  0.261406    2017.1  \n",
      "8813     Ocean    166748  0.242883    2017.1  \n",
      "8814     Ocean    166748  0.266297    2017.1  \n",
      "8815     Ocean    167038  0.448130    2017.1  \n",
      "8816     Ocean    167038  0.238036    2017.1  \n",
      "8817     Ocean    167038  0.239395    2017.1  \n",
      "8818     Ocean    167038  0.240255    2017.1  \n",
      "8819     Ocean    167038  0.238987    2017.1  \n",
      "8820     Ocean    167104  0.445369    2017.1  \n",
      "8821     Ocean    167104  0.246914    2017.1  \n",
      "8822     Ocean    167104  0.252983    2017.1  \n",
      "8823     Ocean    167104  0.256470    2017.1  \n",
      "8824     Ocean    167104  0.261271    2017.1  \n",
      "8825     Ocean    167104  0.376573    2017.1  \n",
      "8826     Ocean    167104  0.293935    2017.1  \n",
      "8827     Ocean    167104  0.282772    2017.1  \n",
      "8828     Ocean    167104  0.295774    2017.1  \n",
      "8829     Ocean    167104  0.283927    2017.1  \n",
      "8830     Ocean    167231  0.303480    2017.1  \n",
      "8831     Ocean    167231  0.266615    2017.1  \n",
      "8832     Ocean    167231  0.272955    2017.1  \n",
      "8833     Ocean    167231  0.269377    2017.1  \n",
      "8834     Ocean    167231  0.265754    2017.1  \n",
      "\n",
      "[8835 rows x 8 columns]\n"
     ]
    }
   ],
   "source": [
    "component, benchmark_name, benchstep_name = 'Ocean', 'ocean_bench_conversion_one_value', 'Unit converter creation + One double value conversion'\n",
    "\n",
    "query = {\"component\": component, \"benchmark_name\": benchmark_name, \n",
    "         \"benchstep_name\": benchstep_name}\n",
    "df = pd.DataFrame.from_records(db.benchmark_results.find(query))\n",
    "print(df)"
   ]
  },
  {
   "cell_type": "code",
   "execution_count": 14,
   "metadata": {
    "collapsed": false,
    "deletable": true,
    "editable": true
   },
   "outputs": [
    {
     "name": "stderr",
     "output_type": "stream",
     "text": [
      "/home/sable/performance_dashboard/trou_coreprocesses/src/segmentation/segmentation_algo.py:20: RuntimeWarning: invalid value encountered in true_divide\n",
      "  return np.sum(x2-(np.power(x,2)/n),axis=1)\n"
     ]
    },
    {
     "ename": "KeyboardInterrupt",
     "evalue": "",
     "output_type": "error",
     "traceback": [
      "\u001b[0;31m---------------------------------------------------------------------------\u001b[0m",
      "\u001b[0;31mKeyboardInterrupt\u001b[0m                         Traceback (most recent call last)",
      "\u001b[0;32m<ipython-input-14-96df332f1630>\u001b[0m in \u001b[0;36m<module>\u001b[0;34m()\u001b[0m\n\u001b[1;32m      1\u001b[0m \u001b[0;32mfrom\u001b[0m \u001b[0msegmentation\u001b[0m\u001b[0;34m.\u001b[0m\u001b[0msegmentation_algo\u001b[0m \u001b[0;32mimport\u001b[0m \u001b[0malgo_pelt\u001b[0m\u001b[0;34m\u001b[0m\u001b[0m\n\u001b[1;32m      2\u001b[0m \u001b[0;34m\u001b[0m\u001b[0m\n\u001b[0;32m----> 3\u001b[0;31m \u001b[0mres\u001b[0m \u001b[0;34m=\u001b[0m \u001b[0malgo_pelt\u001b[0m\u001b[0;34m(\u001b[0m\u001b[0mdf\u001b[0m\u001b[0;34m[\u001b[0m\u001b[0;34m[\u001b[0m\u001b[0;34m'value'\u001b[0m\u001b[0;34m]\u001b[0m\u001b[0;34m]\u001b[0m\u001b[0;34m,\u001b[0m \u001b[0;36m.1\u001b[0m\u001b[0;34m,\u001b[0m \u001b[0;36m0\u001b[0m\u001b[0;34m)\u001b[0m\u001b[0;34m\u001b[0m\u001b[0m\n\u001b[0m\u001b[1;32m      4\u001b[0m \u001b[0mprint\u001b[0m\u001b[0;34m(\u001b[0m\u001b[0mres\u001b[0m\u001b[0;34m)\u001b[0m\u001b[0;34m\u001b[0m\u001b[0m\n",
      "\u001b[0;32m/home/sable/performance_dashboard/trou_coreprocesses/src/segmentation/segmentation_algo.py\u001b[0m in \u001b[0;36malgo_pelt\u001b[0;34m(data, pen_const, min_seg)\u001b[0m\n\u001b[1;32m    162\u001b[0m         \u001b[0;32mif\u001b[0m \u001b[0;34m(\u001b[0m\u001b[0mlast\u001b[0m \u001b[0;34m!=\u001b[0m \u001b[0mn\u001b[0m\u001b[0;34m)\u001b[0m\u001b[0;34m:\u001b[0m\u001b[0;34m\u001b[0m\u001b[0m\n\u001b[1;32m    163\u001b[0m             \u001b[0mchangepoints\u001b[0m\u001b[0;34m=\u001b[0m\u001b[0mnp\u001b[0m\u001b[0;34m.\u001b[0m\u001b[0mappend\u001b[0m\u001b[0;34m(\u001b[0m\u001b[0mchangepoints\u001b[0m\u001b[0;34m,\u001b[0m\u001b[0mlast\u001b[0m\u001b[0;34m)\u001b[0m\u001b[0;34m\u001b[0m\u001b[0m\n\u001b[0;32m--> 164\u001b[0;31m         \u001b[0mlast\u001b[0m \u001b[0;34m=\u001b[0m \u001b[0mint\u001b[0m\u001b[0;34m(\u001b[0m\u001b[0mlastchangecpts\u001b[0m\u001b[0;34m[\u001b[0m\u001b[0mlast\u001b[0m\u001b[0;34m]\u001b[0m\u001b[0;34m)\u001b[0m\u001b[0;34m\u001b[0m\u001b[0m\n\u001b[0m\u001b[1;32m    165\u001b[0m         \u001b[0mncpts\u001b[0m \u001b[0;34m+=\u001b[0m \u001b[0;36m1\u001b[0m\u001b[0;34m\u001b[0m\u001b[0m\n\u001b[1;32m    166\u001b[0m     \u001b[0mchangepoints\u001b[0m\u001b[0;34m=\u001b[0m\u001b[0mnp\u001b[0m\u001b[0;34m.\u001b[0m\u001b[0msort\u001b[0m\u001b[0;34m(\u001b[0m\u001b[0mchangepoints\u001b[0m\u001b[0;34m)\u001b[0m\u001b[0;34m\u001b[0m\u001b[0m\n",
      "\u001b[0;31mKeyboardInterrupt\u001b[0m: "
     ]
    }
   ],
   "source": [
    "from segmentation.segmentation_algo import algo_pelt\n",
    "\n",
    "res = algo_pelt(df[['value']], .1, 0)\n",
    "print(res)"
   ]
  },
  {
   "cell_type": "code",
   "execution_count": null,
   "metadata": {
    "collapsed": true,
    "deletable": true,
    "editable": true
   },
   "outputs": [],
   "source": []
  }
 ],
 "metadata": {
  "extensions": {
   "jupyter_dashboards": {
    "activeView": "report_default",
    "version": 1,
    "views": {
     "grid_default": {
      "cellMargin": 10,
      "defaultCellHeight": 20,
      "maxColumns": 12,
      "name": "grid",
      "type": "grid"
     },
     "report_default": {
      "name": "report",
      "type": "report"
     }
    }
   }
  },
  "kernelspec": {
   "display_name": "Python 3",
   "language": "python",
   "name": "python3"
  },
  "language_info": {
   "codemirror_mode": {
    "name": "ipython",
    "version": 3
   },
   "file_extension": ".py",
   "mimetype": "text/x-python",
   "name": "python",
   "nbconvert_exporter": "python",
   "pygments_lexer": "ipython3",
   "version": "3.5.2+"
  }
 },
 "nbformat": 4,
 "nbformat_minor": 1
}
